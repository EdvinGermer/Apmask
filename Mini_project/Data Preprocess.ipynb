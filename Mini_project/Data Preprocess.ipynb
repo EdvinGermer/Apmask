{
 "cells": [
  {
   "cell_type": "code",
   "execution_count": 1,
   "id": "db066d38",
   "metadata": {},
   "outputs": [],
   "source": [
    "import pandas as pd"
   ]
  },
  {
   "cell_type": "markdown",
   "id": "f16a1716",
   "metadata": {},
   "source": [
    "# Read data"
   ]
  },
  {
   "cell_type": "code",
   "execution_count": 85,
   "id": "9608dc62",
   "metadata": {},
   "outputs": [],
   "source": [
    "# New data\n",
    "df_0910 = pd.read_csv('SerieA_0910.csv')\n",
    "df_1011 = pd.read_csv('SerieA_1011.csv')\n",
    "df_1112 = pd.read_csv('SerieA_1112.csv')\n",
    "df_1213 = pd.read_csv('SerieA_1213.csv')\n",
    "df_1314 = pd.read_csv('SerieA_1314.csv')\n",
    "df_1415 = pd.read_csv('SerieA_1415.csv')\n",
    "df_1516 = pd.read_csv('SerieA_1516.csv')\n",
    "df_1617 = pd.read_csv('SerieA_1617.csv')\n",
    "df_1718 = pd.read_csv('SerieA_1718.csv')\n",
    "\n",
    "#dfs = [df_0910,df_1011,df_1112,df_1213,df_1314,df_1415,df_1516,df_1617,df_1718]\n",
    "dfs = [df_1718,df_1617]\n",
    "\n",
    "# Reference\n",
    "df_1819 = pd.read_csv('SerieA_1819.csv')"
   ]
  },
  {
   "cell_type": "markdown",
   "id": "b96ee234",
   "metadata": {},
   "source": [
    "# Observe data"
   ]
  },
  {
   "cell_type": "code",
   "execution_count": 86,
   "id": "859cd16b",
   "metadata": {},
   "outputs": [
    {
     "name": "stdout",
     "output_type": "stream",
     "text": [
      "<class 'pandas.core.frame.DataFrame'>\n",
      "RangeIndex: 380 entries, 0 to 379\n",
      "Data columns (total 6 columns):\n",
      " #   Column      Non-Null Count  Dtype \n",
      "---  ------      --------------  ----- \n",
      " 0   yyyy-mm-dd  380 non-null    object\n",
      " 1   HH:MM       380 non-null    object\n",
      " 2   team1       380 non-null    object\n",
      " 3   team2       380 non-null    object\n",
      " 4   score1      380 non-null    int64 \n",
      " 5   score2      380 non-null    int64 \n",
      "dtypes: int64(2), object(4)\n",
      "memory usage: 17.9+ KB\n"
     ]
    }
   ],
   "source": [
    "df_1819.info()"
   ]
  },
  {
   "cell_type": "code",
   "execution_count": 87,
   "id": "2f6ceb3a",
   "metadata": {},
   "outputs": [
    {
     "name": "stdout",
     "output_type": "stream",
     "text": [
      "<class 'pandas.core.frame.DataFrame'>\n",
      "RangeIndex: 380 entries, 0 to 379\n",
      "Data columns (total 64 columns):\n",
      " #   Column    Non-Null Count  Dtype  \n",
      "---  ------    --------------  -----  \n",
      " 0   Div       380 non-null    object \n",
      " 1   Date      380 non-null    object \n",
      " 2   HomeTeam  380 non-null    object \n",
      " 3   AwayTeam  380 non-null    object \n",
      " 4   FTHG      380 non-null    int64  \n",
      " 5   FTAG      380 non-null    int64  \n",
      " 6   FTR       380 non-null    object \n",
      " 7   HTHG      380 non-null    int64  \n",
      " 8   HTAG      380 non-null    int64  \n",
      " 9   HTR       380 non-null    object \n",
      " 10  HS        380 non-null    int64  \n",
      " 11  AS        380 non-null    int64  \n",
      " 12  HST       380 non-null    int64  \n",
      " 13  AST       380 non-null    int64  \n",
      " 14  HF        380 non-null    int64  \n",
      " 15  AF        380 non-null    int64  \n",
      " 16  HC        380 non-null    int64  \n",
      " 17  AC        380 non-null    int64  \n",
      " 18  HY        380 non-null    int64  \n",
      " 19  AY        380 non-null    int64  \n",
      " 20  HR        380 non-null    int64  \n",
      " 21  AR        380 non-null    int64  \n",
      " 22  B365H     380 non-null    float64\n",
      " 23  B365D     380 non-null    float64\n",
      " 24  B365A     380 non-null    float64\n",
      " 25  BWH       380 non-null    float64\n",
      " 26  BWD       380 non-null    float64\n",
      " 27  BWA       380 non-null    float64\n",
      " 28  IWH       380 non-null    float64\n",
      " 29  IWD       380 non-null    float64\n",
      " 30  IWA       380 non-null    float64\n",
      " 31  LBH       380 non-null    float64\n",
      " 32  LBD       380 non-null    float64\n",
      " 33  LBA       380 non-null    float64\n",
      " 34  PSH       379 non-null    float64\n",
      " 35  PSD       379 non-null    float64\n",
      " 36  PSA       379 non-null    float64\n",
      " 37  WHH       380 non-null    float64\n",
      " 38  WHD       380 non-null    float64\n",
      " 39  WHA       380 non-null    float64\n",
      " 40  VCH       380 non-null    float64\n",
      " 41  VCD       380 non-null    float64\n",
      " 42  VCA       380 non-null    float64\n",
      " 43  Bb1X2     380 non-null    int64  \n",
      " 44  BbMxH     380 non-null    float64\n",
      " 45  BbAvH     380 non-null    float64\n",
      " 46  BbMxD     380 non-null    float64\n",
      " 47  BbAvD     380 non-null    float64\n",
      " 48  BbMxA     380 non-null    float64\n",
      " 49  BbAvA     380 non-null    float64\n",
      " 50  BbOU      380 non-null    int64  \n",
      " 51  BbMx>2.5  380 non-null    float64\n",
      " 52  BbAv>2.5  380 non-null    float64\n",
      " 53  BbMx<2.5  380 non-null    float64\n",
      " 54  BbAv<2.5  380 non-null    float64\n",
      " 55  BbAH      380 non-null    int64  \n",
      " 56  BbAHh     380 non-null    float64\n",
      " 57  BbMxAHH   380 non-null    float64\n",
      " 58  BbAvAHH   380 non-null    float64\n",
      " 59  BbMxAHA   380 non-null    float64\n",
      " 60  BbAvAHA   380 non-null    float64\n",
      " 61  PSCH      380 non-null    float64\n",
      " 62  PSCD      380 non-null    float64\n",
      " 63  PSCA      380 non-null    float64\n",
      "dtypes: float64(39), int64(19), object(6)\n",
      "memory usage: 190.1+ KB\n"
     ]
    }
   ],
   "source": [
    "df_1718.info()"
   ]
  },
  {
   "cell_type": "markdown",
   "id": "1c1f95af",
   "metadata": {},
   "source": [
    "# Functions"
   ]
  },
  {
   "cell_type": "code",
   "execution_count": 88,
   "id": "4e83ebc0",
   "metadata": {},
   "outputs": [],
   "source": [
    "def unique_teams_count(df):\n",
    "    home_teams = set(df['HomeTeam'])\n",
    "    away_teams = set(df['AwayTeam'])\n",
    "    unique_teams = home_teams.union(away_teams)\n",
    "    return len(unique_teams)\n",
    "\n",
    "def unique_teams_count_2(df):\n",
    "    home_teams = set(df['team1'])\n",
    "    away_teams = set(df['team2'])\n",
    "    unique_teams = home_teams.union(away_teams)\n",
    "    return len(unique_teams)"
   ]
  },
  {
   "cell_type": "code",
   "execution_count": 89,
   "id": "491b6ccc",
   "metadata": {},
   "outputs": [
    {
     "name": "stdout",
     "output_type": "stream",
     "text": [
      "20\n",
      "20\n"
     ]
    }
   ],
   "source": [
    "for df in dfs:\n",
    "    print(unique_teams_count(df))"
   ]
  },
  {
   "cell_type": "code",
   "execution_count": 90,
   "id": "5de42573",
   "metadata": {},
   "outputs": [],
   "source": [
    "def process_dataframe(df):\n",
    "    # Create a new DataFrame by selecting only relevant columns\n",
    "    new_df = df[['Date', 'HomeTeam', 'AwayTeam', 'FTHG', 'FTAG']].copy()\n",
    "\n",
    "    # Rename columns to match df_1819\n",
    "    new_df.rename(columns={\n",
    "        'Date': 'yyyy-mm-dd',\n",
    "        'HomeTeam': 'team1',\n",
    "        'AwayTeam': 'team2',\n",
    "        'FTHG': 'score1',\n",
    "        'FTAG': 'score2'\n",
    "    }, inplace=True)\n",
    "\n",
    "    # Optionally, if you want to add a time column like 'HH:MM' in df_1819\n",
    "    new_df['HH:MM'] = '00:00'  # You can replace '00:00' with actual time data if you have it\n",
    "\n",
    "    # Reorder the columns to match df_1819\n",
    "    new_df = new_df[['yyyy-mm-dd', 'HH:MM', 'team1', 'team2', 'score1', 'score2']]\n",
    "\n",
    "    return new_df"
   ]
  },
  {
   "cell_type": "code",
   "execution_count": 91,
   "id": "53be4026",
   "metadata": {},
   "outputs": [],
   "source": [
    "processed_dfs = [process_dataframe(df) for df in dfs]"
   ]
  },
  {
   "cell_type": "markdown",
   "id": "cab0902b",
   "metadata": {},
   "source": [
    "# Merge datasets"
   ]
  },
  {
   "cell_type": "code",
   "execution_count": 92,
   "id": "583400cc",
   "metadata": {},
   "outputs": [
    {
     "name": "stdout",
     "output_type": "stream",
     "text": [
      "25\n",
      "      yyyy-mm-dd  HH:MM       team1     team2  score1  score2\n",
      "0       19/08/17  00:00    Juventus  Cagliari       3       0\n",
      "1       19/08/17  00:00      Verona    Napoli       1       3\n",
      "2       20/08/17  00:00    Atalanta      Roma       0       1\n",
      "3       20/08/17  00:00     Bologna    Torino       1       1\n",
      "4       20/08/17  00:00     Crotone     Milan       0       3\n",
      "...          ...    ...         ...       ...     ...     ...\n",
      "1135  2019-05-26  20:30        Roma     Parma       2       1\n",
      "1136  2019-05-26  20:30       Inter    Empoli       2       1\n",
      "1137  2019-05-26  20:30  Fiorentina     Genoa       0       0\n",
      "1138  2019-05-26  20:30    Cagliari   Udinese       1       2\n",
      "1139  2019-05-26  20:30    Atalanta  Sassuolo       3       1\n",
      "\n",
      "[1140 rows x 6 columns]\n"
     ]
    }
   ],
   "source": [
    "# Concatenate all processed DataFrames to create a single large DataFrame\n",
    "processed_dfs.append(df_1819)\n",
    "merged_df = pd.concat(processed_dfs, ignore_index=True)\n",
    "\n",
    "print(unique_teams_count_2(merged_df))\n",
    "\n",
    "# If you want to see the resulting DataFrame\n",
    "print(merged_df)"
   ]
  },
  {
   "cell_type": "markdown",
   "id": "65da170d",
   "metadata": {},
   "source": [
    "# Filter out teams not present in 1819"
   ]
  },
  {
   "cell_type": "code",
   "execution_count": 93,
   "id": "435c1ccf",
   "metadata": {},
   "outputs": [],
   "source": [
    "# Assume df is your original DataFrame and df_1819 is the DataFrame containing teams from the 2018-2019 season\n",
    "# Create a set of unique teams from df_1819\n",
    "unique_teams_1819 = set(df_1819['team1']).union(set(df_1819['team2']))\n",
    "\n",
    "# Filter out rows from df where either 'team1' or 'team2' are not in unique_teams_1819\n",
    "final_df = merged_df[merged_df['team1'].isin(unique_teams_1819) & merged_df['team2'].isin(unique_teams_1819)]"
   ]
  },
  {
   "cell_type": "code",
   "execution_count": 94,
   "id": "e833bca2",
   "metadata": {},
   "outputs": [
    {
     "name": "stdout",
     "output_type": "stream",
     "text": [
      "20\n"
     ]
    }
   ],
   "source": [
    "print(unique_teams_count_2(final_df))"
   ]
  },
  {
   "cell_type": "code",
   "execution_count": 95,
   "id": "b91d13ab",
   "metadata": {},
   "outputs": [
    {
     "name": "stdout",
     "output_type": "stream",
     "text": [
      "      yyyy-mm-dd  HH:MM       team1       team2  score1  score2\n",
      "0       19/08/17  00:00    Juventus    Cagliari       3       0\n",
      "2       20/08/17  00:00    Atalanta        Roma       0       1\n",
      "3       20/08/17  00:00     Bologna      Torino       1       1\n",
      "5       20/08/17  00:00       Inter  Fiorentina       3       0\n",
      "6       20/08/17  00:00       Lazio        Spal       0       0\n",
      "...          ...    ...         ...         ...     ...     ...\n",
      "1135  2019-05-26  20:30        Roma       Parma       2       1\n",
      "1136  2019-05-26  20:30       Inter      Empoli       2       1\n",
      "1137  2019-05-26  20:30  Fiorentina       Genoa       0       0\n",
      "1138  2019-05-26  20:30    Cagliari     Udinese       1       2\n",
      "1139  2019-05-26  20:30    Atalanta    Sassuolo       3       1\n",
      "\n",
      "[924 rows x 6 columns]\n"
     ]
    }
   ],
   "source": [
    "print(final_df)"
   ]
  },
  {
   "cell_type": "markdown",
   "id": "b73f1a1f",
   "metadata": {},
   "source": [
    "# Save df"
   ]
  },
  {
   "cell_type": "code",
   "execution_count": 96,
   "id": "c52ac309",
   "metadata": {},
   "outputs": [],
   "source": [
    "final_df.to_csv('SerieA_extended_3.csv', index=False)"
   ]
  },
  {
   "cell_type": "code",
   "execution_count": null,
   "id": "eddb66b3",
   "metadata": {},
   "outputs": [],
   "source": []
  }
 ],
 "metadata": {
  "kernelspec": {
   "display_name": "Python 3 (ipykernel)",
   "language": "python",
   "name": "python3"
  },
  "language_info": {
   "codemirror_mode": {
    "name": "ipython",
    "version": 3
   },
   "file_extension": ".py",
   "mimetype": "text/x-python",
   "name": "python",
   "nbconvert_exporter": "python",
   "pygments_lexer": "ipython3",
   "version": "3.9.7"
  }
 },
 "nbformat": 4,
 "nbformat_minor": 5
}
