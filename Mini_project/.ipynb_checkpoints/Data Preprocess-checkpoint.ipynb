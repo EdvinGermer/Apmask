{
 "cells": [
  {
   "cell_type": "code",
   "execution_count": 1,
   "id": "e0e8f281",
   "metadata": {},
   "outputs": [],
   "source": [
    "import pandas as pd"
   ]
  },
  {
   "cell_type": "markdown",
   "id": "b02a93d3",
   "metadata": {},
   "source": [
    "# Read data"
   ]
  },
  {
   "cell_type": "code",
   "execution_count": 60,
   "id": "005c6827",
   "metadata": {},
   "outputs": [],
   "source": [
    "# New data\n",
    "df_0910 = pd.read_csv('SerieA_0910.csv')\n",
    "df_1011 = pd.read_csv('SerieA_1011.csv')\n",
    "df_1112 = pd.read_csv('SerieA_1112.csv')\n",
    "df_1213 = pd.read_csv('SerieA_1213.csv')\n",
    "df_1314 = pd.read_csv('SerieA_1314.csv')\n",
    "df_1415 = pd.read_csv('SerieA_1415.csv')\n",
    "df_1516 = pd.read_csv('SerieA_1516.csv')\n",
    "df_1617 = pd.read_csv('SerieA_1617.csv')\n",
    "df_1718 = pd.read_csv('SerieA_1718.csv')\n",
    "\n",
    "dfs = [df_0910,df_1011,df_1112,df_1213,df_1314,df_1415,df_1516,df_1617,df_1718]\n",
    "\n",
    "# Reference\n",
    "df_1819 = pd.read_csv('SerieA_1819.csv')"
   ]
  },
  {
   "cell_type": "markdown",
   "id": "c2366f1f",
   "metadata": {},
   "source": [
    "# Observe data"
   ]
  },
  {
   "cell_type": "code",
   "execution_count": 61,
   "id": "bc68b5f4",
   "metadata": {},
   "outputs": [
    {
     "name": "stdout",
     "output_type": "stream",
     "text": [
      "<class 'pandas.core.frame.DataFrame'>\n",
      "RangeIndex: 380 entries, 0 to 379\n",
      "Data columns (total 6 columns):\n",
      " #   Column      Non-Null Count  Dtype \n",
      "---  ------      --------------  ----- \n",
      " 0   yyyy-mm-dd  380 non-null    object\n",
      " 1   HH:MM       380 non-null    object\n",
      " 2   team1       380 non-null    object\n",
      " 3   team2       380 non-null    object\n",
      " 4   score1      380 non-null    int64 \n",
      " 5   score2      380 non-null    int64 \n",
      "dtypes: int64(2), object(4)\n",
      "memory usage: 17.9+ KB\n"
     ]
    }
   ],
   "source": [
    "df_1819.info()"
   ]
  },
  {
   "cell_type": "code",
   "execution_count": 62,
   "id": "c88ee13a",
   "metadata": {},
   "outputs": [
    {
     "name": "stdout",
     "output_type": "stream",
     "text": [
      "<class 'pandas.core.frame.DataFrame'>\n",
      "RangeIndex: 380 entries, 0 to 379\n",
      "Data columns (total 64 columns):\n",
      " #   Column    Non-Null Count  Dtype  \n",
      "---  ------    --------------  -----  \n",
      " 0   Div       380 non-null    object \n",
      " 1   Date      380 non-null    object \n",
      " 2   HomeTeam  380 non-null    object \n",
      " 3   AwayTeam  380 non-null    object \n",
      " 4   FTHG      380 non-null    int64  \n",
      " 5   FTAG      380 non-null    int64  \n",
      " 6   FTR       380 non-null    object \n",
      " 7   HTHG      380 non-null    int64  \n",
      " 8   HTAG      380 non-null    int64  \n",
      " 9   HTR       380 non-null    object \n",
      " 10  HS        380 non-null    int64  \n",
      " 11  AS        380 non-null    int64  \n",
      " 12  HST       380 non-null    int64  \n",
      " 13  AST       380 non-null    int64  \n",
      " 14  HF        380 non-null    int64  \n",
      " 15  AF        380 non-null    int64  \n",
      " 16  HC        380 non-null    int64  \n",
      " 17  AC        380 non-null    int64  \n",
      " 18  HY        380 non-null    int64  \n",
      " 19  AY        380 non-null    int64  \n",
      " 20  HR        380 non-null    int64  \n",
      " 21  AR        380 non-null    int64  \n",
      " 22  B365H     380 non-null    float64\n",
      " 23  B365D     380 non-null    float64\n",
      " 24  B365A     380 non-null    float64\n",
      " 25  BWH       380 non-null    float64\n",
      " 26  BWD       380 non-null    float64\n",
      " 27  BWA       380 non-null    float64\n",
      " 28  IWH       380 non-null    float64\n",
      " 29  IWD       380 non-null    float64\n",
      " 30  IWA       380 non-null    float64\n",
      " 31  LBH       380 non-null    float64\n",
      " 32  LBD       380 non-null    float64\n",
      " 33  LBA       380 non-null    float64\n",
      " 34  PSH       379 non-null    float64\n",
      " 35  PSD       379 non-null    float64\n",
      " 36  PSA       379 non-null    float64\n",
      " 37  WHH       380 non-null    float64\n",
      " 38  WHD       380 non-null    float64\n",
      " 39  WHA       380 non-null    float64\n",
      " 40  VCH       380 non-null    float64\n",
      " 41  VCD       380 non-null    float64\n",
      " 42  VCA       380 non-null    float64\n",
      " 43  Bb1X2     380 non-null    int64  \n",
      " 44  BbMxH     380 non-null    float64\n",
      " 45  BbAvH     380 non-null    float64\n",
      " 46  BbMxD     380 non-null    float64\n",
      " 47  BbAvD     380 non-null    float64\n",
      " 48  BbMxA     380 non-null    float64\n",
      " 49  BbAvA     380 non-null    float64\n",
      " 50  BbOU      380 non-null    int64  \n",
      " 51  BbMx>2.5  380 non-null    float64\n",
      " 52  BbAv>2.5  380 non-null    float64\n",
      " 53  BbMx<2.5  380 non-null    float64\n",
      " 54  BbAv<2.5  380 non-null    float64\n",
      " 55  BbAH      380 non-null    int64  \n",
      " 56  BbAHh     380 non-null    float64\n",
      " 57  BbMxAHH   380 non-null    float64\n",
      " 58  BbAvAHH   380 non-null    float64\n",
      " 59  BbMxAHA   380 non-null    float64\n",
      " 60  BbAvAHA   380 non-null    float64\n",
      " 61  PSCH      380 non-null    float64\n",
      " 62  PSCD      380 non-null    float64\n",
      " 63  PSCA      380 non-null    float64\n",
      "dtypes: float64(39), int64(19), object(6)\n",
      "memory usage: 190.1+ KB\n"
     ]
    }
   ],
   "source": [
    "df_1718.info()"
   ]
  },
  {
   "cell_type": "markdown",
   "id": "4e8e5c4e",
   "metadata": {},
   "source": [
    "# Functions"
   ]
  },
  {
   "cell_type": "code",
   "execution_count": 63,
   "id": "1a11501c",
   "metadata": {},
   "outputs": [],
   "source": [
    "def unique_teams_count(df):\n",
    "    home_teams = set(df['HomeTeam'])\n",
    "    away_teams = set(df['AwayTeam'])\n",
    "    unique_teams = home_teams.union(away_teams)\n",
    "    return len(unique_teams)\n",
    "\n",
    "def unique_teams_count_2(df):\n",
    "    home_teams = set(df['team1'])\n",
    "    away_teams = set(df['team2'])\n",
    "    unique_teams = home_teams.union(away_teams)\n",
    "    return len(unique_teams)"
   ]
  },
  {
   "cell_type": "code",
   "execution_count": 64,
   "id": "8d3dcb6d",
   "metadata": {},
   "outputs": [
    {
     "name": "stdout",
     "output_type": "stream",
     "text": [
      "20\n",
      "20\n",
      "20\n",
      "20\n",
      "20\n",
      "20\n",
      "20\n",
      "20\n",
      "20\n"
     ]
    }
   ],
   "source": [
    "for df in dfs:\n",
    "    print(unique_teams_count(df))"
   ]
  },
  {
   "cell_type": "code",
   "execution_count": 65,
   "id": "8312525e",
   "metadata": {},
   "outputs": [],
   "source": [
    "def process_dataframe(df):\n",
    "    # Create a new DataFrame by selecting only relevant columns\n",
    "    new_df = df[['Date', 'HomeTeam', 'AwayTeam', 'FTHG', 'FTAG']].copy()\n",
    "\n",
    "    # Rename columns to match df_1819\n",
    "    new_df.rename(columns={\n",
    "        'Date': 'yyyy-mm-dd',\n",
    "        'HomeTeam': 'team1',\n",
    "        'AwayTeam': 'team2',\n",
    "        'FTHG': 'score1',\n",
    "        'FTAG': 'score2'\n",
    "    }, inplace=True)\n",
    "\n",
    "    # Optionally, if you want to add a time column like 'HH:MM' in df_1819\n",
    "    new_df['HH:MM'] = '00:00'  # You can replace '00:00' with actual time data if you have it\n",
    "\n",
    "    # Reorder the columns to match df_1819\n",
    "    new_df = new_df[['yyyy-mm-dd', 'HH:MM', 'team1', 'team2', 'score1', 'score2']]\n",
    "\n",
    "    return new_df"
   ]
  },
  {
   "cell_type": "code",
   "execution_count": 66,
   "id": "e07fd8f5",
   "metadata": {},
   "outputs": [],
   "source": [
    "processed_dfs = [process_dataframe(df) for df in dfs]"
   ]
  },
  {
   "cell_type": "markdown",
   "id": "cc7b43b1",
   "metadata": {},
   "source": [
    "# Merge datasets"
   ]
  },
  {
   "cell_type": "code",
   "execution_count": 67,
   "id": "aaaa1226",
   "metadata": {},
   "outputs": [
    {
     "name": "stdout",
     "output_type": "stream",
     "text": [
      "      yyyy-mm-dd  HH:MM       team1       team2  score1  score2\n",
      "0     2009-08-22  00:00     Bologna  Fiorentina       1       1\n",
      "1     2009-08-22  00:00       Siena       Milan       1       2\n",
      "2     2009-08-23  00:00     Catania   Sampdoria       1       2\n",
      "3     2009-08-23  00:00       Genoa        Roma       3       2\n",
      "4     2009-08-23  00:00       Inter        Bari       1       1\n",
      "...          ...    ...         ...         ...     ...     ...\n",
      "3795  2019-05-26  20:30        Roma       Parma       2       1\n",
      "3796  2019-05-26  20:30       Inter      Empoli       2       1\n",
      "3797  2019-05-26  20:30  Fiorentina       Genoa       0       0\n",
      "3798  2019-05-26  20:30    Cagliari     Udinese       1       2\n",
      "3799  2019-05-26  20:30    Atalanta    Sassuolo       3       1\n",
      "\n",
      "[3800 rows x 6 columns]\n"
     ]
    }
   ],
   "source": [
    "# Concatenate all processed DataFrames to create a single large DataFrame\n",
    "processed_dfs.append(df_1819)\n",
    "merged_df = pd.concat(processed_dfs, ignore_index=True)\n",
    "\n",
    "# If you want to see the resulting DataFrame\n",
    "print(merged_df)"
   ]
  },
  {
   "cell_type": "markdown",
   "id": "86e187cf",
   "metadata": {},
   "source": [
    "# Filter out teams not present in 1819"
   ]
  },
  {
   "cell_type": "code",
   "execution_count": 68,
   "id": "06cff480",
   "metadata": {},
   "outputs": [],
   "source": [
    "# Assume df is your original DataFrame and df_1819 is the DataFrame containing teams from the 2018-2019 season\n",
    "# Create a set of unique teams from df_1819\n",
    "unique_teams_1819 = set(df_1819['team1']).union(set(df_1819['team2']))\n",
    "\n",
    "# Filter out rows from df where either 'team1' or 'team2' are not in unique_teams_1819\n",
    "final_df = merged_df[merged_df['team1'].isin(unique_teams_1819) & merged_df['team2'].isin(unique_teams_1819)]"
   ]
  },
  {
   "cell_type": "code",
   "execution_count": 69,
   "id": "6720f1a3",
   "metadata": {},
   "outputs": [
    {
     "name": "stdout",
     "output_type": "stream",
     "text": [
      "20\n"
     ]
    }
   ],
   "source": [
    "print(unique_teams_count_2(final_df))"
   ]
  },
  {
   "cell_type": "code",
   "execution_count": 70,
   "id": "5619c5b3",
   "metadata": {},
   "outputs": [
    {
     "name": "stdout",
     "output_type": "stream",
     "text": [
      "      yyyy-mm-dd  HH:MM       team1       team2  score1  score2\n",
      "0     2009-08-22  00:00     Bologna  Fiorentina       1       1\n",
      "3     2009-08-23  00:00       Genoa        Roma       3       2\n",
      "5     2009-08-23  00:00    Juventus      Chievo       1       0\n",
      "6     2009-08-23  00:00       Lazio    Atalanta       1       0\n",
      "9     2009-08-23  00:00     Udinese       Parma       2       2\n",
      "...          ...    ...         ...         ...     ...     ...\n",
      "3795  2019-05-26  20:30        Roma       Parma       2       1\n",
      "3796  2019-05-26  20:30       Inter      Empoli       2       1\n",
      "3797  2019-05-26  20:30  Fiorentina       Genoa       0       0\n",
      "3798  2019-05-26  20:30    Cagliari     Udinese       1       2\n",
      "3799  2019-05-26  20:30    Atalanta    Sassuolo       3       1\n",
      "\n",
      "[2554 rows x 6 columns]\n"
     ]
    }
   ],
   "source": [
    "print(final_df)"
   ]
  },
  {
   "cell_type": "code",
   "execution_count": null,
   "id": "50ecc0ae",
   "metadata": {},
   "outputs": [],
   "source": []
  },
  {
   "cell_type": "code",
   "execution_count": null,
   "id": "f850f4ae",
   "metadata": {},
   "outputs": [],
   "source": []
  }
 ],
 "metadata": {
  "kernelspec": {
   "display_name": "Python 3 (ipykernel)",
   "language": "python",
   "name": "python3"
  },
  "language_info": {
   "codemirror_mode": {
    "name": "ipython",
    "version": 3
   },
   "file_extension": ".py",
   "mimetype": "text/x-python",
   "name": "python",
   "nbconvert_exporter": "python",
   "pygments_lexer": "ipython3",
   "version": "3.9.7"
  }
 },
 "nbformat": 4,
 "nbformat_minor": 5
}
